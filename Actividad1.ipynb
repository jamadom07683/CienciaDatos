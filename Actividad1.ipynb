{
 "cells": [
  {
   "cell_type": "markdown",
   "id": "ca7341ba-a418-4bbd-8d96-baf72015fb2d",
   "metadata": {},
   "source": [
    "# Programación para la Ciencia de Datos"
   ]
  },
  {
   "cell_type": "markdown",
   "id": "8ef91533-776a-4a7b-9cec-ed065e74fe92",
   "metadata": {},
   "source": [
    "## Guia 1 "
   ]
  },
  {
   "cell_type": "markdown",
   "id": "960ec8fa-546b-41b2-bfa3-ec729825126b",
   "metadata": {},
   "source": [
    "### Actividad 1"
   ]
  },
  {
   "cell_type": "markdown",
   "id": "3b714da4-5549-471b-9886-47f954bac14a",
   "metadata": {},
   "source": [
    "#### Importando el Dataset"
   ]
  },
  {
   "cell_type": "code",
   "execution_count": 6,
   "id": "e141a833-6610-4c50-b101-0a544229d73d",
   "metadata": {},
   "outputs": [],
   "source": [
    "#importar la libreria de Pandas\n",
    "import pandas as pd"
   ]
  },
  {
   "cell_type": "code",
   "execution_count": 8,
   "id": "77d946a8-71da-4ea5-9f0f-f80faeb05db4",
   "metadata": {},
   "outputs": [],
   "source": [
    "#Cargar el dataset de nuestro Csv\n",
    "census_df=pd.read_csv('census_income.csv')"
   ]
  },
  {
   "cell_type": "code",
   "execution_count": 26,
   "id": "bb12f633-d9bc-405b-89ca-28cf5ccf699d",
   "metadata": {},
   "outputs": [
    {
     "name": "stdout",
     "output_type": "stream",
     "text": [
      "          ID  age         workclass  fnlwgt  education  education-num  \\\n",
      "0          0   39         State-gov   77516  Bachelors             13   \n",
      "1          1   50  Self-emp-not-inc   83311  Bachelors             13   \n",
      "2          2   38           Private  215646    HS-grad              9   \n",
      "3          3   53           Private  234721       11th              7   \n",
      "4          4   28           Private  338409  Bachelors             13   \n",
      "...      ...  ...               ...     ...        ...            ...   \n",
      "48837  48837   39           Private  215419  Bachelors             13   \n",
      "48838  48838   64               NaN  321403    HS-grad              9   \n",
      "48839  48839   38           Private  374983  Bachelors             13   \n",
      "48840  48840   44           Private   83891  Bachelors             13   \n",
      "48841  48841   35      Self-emp-inc  182148  Bachelors             13   \n",
      "\n",
      "           marital-status         occupation    relationship  \\\n",
      "0           Never-married       Adm-clerical   Not-in-family   \n",
      "1      Married-civ-spouse    Exec-managerial         Husband   \n",
      "2                Divorced  Handlers-cleaners   Not-in-family   \n",
      "3      Married-civ-spouse  Handlers-cleaners         Husband   \n",
      "4      Married-civ-spouse     Prof-specialty            Wife   \n",
      "...                   ...                ...             ...   \n",
      "48837            Divorced     Prof-specialty   Not-in-family   \n",
      "48838             Widowed                NaN  Other-relative   \n",
      "48839  Married-civ-spouse     Prof-specialty         Husband   \n",
      "48840            Divorced       Adm-clerical       Own-child   \n",
      "48841  Married-civ-spouse    Exec-managerial         Husband   \n",
      "\n",
      "                     race     sex  capital-gain  capital-loss  hours-per-week  \\\n",
      "0                   White    Male          2174             0              40   \n",
      "1                   White    Male             0             0              13   \n",
      "2                   White    Male             0             0              40   \n",
      "3                   Black    Male             0             0              40   \n",
      "4                   Black  Female             0             0              40   \n",
      "...                   ...     ...           ...           ...             ...   \n",
      "48837               White  Female             0             0              36   \n",
      "48838               Black    Male             0             0              40   \n",
      "48839               White    Male             0             0              50   \n",
      "48840  Asian-Pac-Islander    Male          5455             0              40   \n",
      "48841               White    Male             0             0              60   \n",
      "\n",
      "      native-country  income  \n",
      "0      United-States   <=50K  \n",
      "1      United-States   <=50K  \n",
      "2      United-States   <=50K  \n",
      "3      United-States   <=50K  \n",
      "4               Cuba   <=50K  \n",
      "...              ...     ...  \n",
      "48837  United-States  <=50K.  \n",
      "48838  United-States  <=50K.  \n",
      "48839  United-States  <=50K.  \n",
      "48840  United-States  <=50K.  \n",
      "48841  United-States   >50K.  \n",
      "\n",
      "[48842 rows x 16 columns]\n"
     ]
    }
   ],
   "source": [
    "#Listamos nuestro set de datos\n",
    "print(census_df)"
   ]
  },
  {
   "cell_type": "code",
   "execution_count": 12,
   "id": "78b20a40-b469-48fc-9bb6-ec167fb3b71b",
   "metadata": {},
   "outputs": [],
   "source": [
    "#Cambiar el nombre de la primera Columna\n",
    "#Esto lo hacemos para un mayor orden y visibilidad de los datos\n",
    "census_df.columns.values[0]='ID'"
   ]
  },
  {
   "cell_type": "code",
   "execution_count": 14,
   "id": "43bd39af-2ca1-41f1-b1c6-a29823cbbb06",
   "metadata": {},
   "outputs": [
    {
     "name": "stdout",
     "output_type": "stream",
     "text": [
      "ID                 int64\n",
      "age                int64\n",
      "workclass         object\n",
      "fnlwgt             int64\n",
      "education         object\n",
      "education-num      int64\n",
      "marital-status    object\n",
      "occupation        object\n",
      "relationship      object\n",
      "race              object\n",
      "sex               object\n",
      "capital-gain       int64\n",
      "capital-loss       int64\n",
      "hours-per-week     int64\n",
      "native-country    object\n",
      "income            object\n",
      "dtype: object\n"
     ]
    }
   ],
   "source": [
    "#Definir tipo de variable por columna de nuestro dataset\n",
    "dataType=census_df.dtypes\n",
    "print(dataType)"
   ]
  },
  {
   "cell_type": "code",
   "execution_count": 15,
   "id": "75fc469a-70d8-4858-93d7-8cd59735e7b9",
   "metadata": {},
   "outputs": [
    {
     "name": "stdout",
     "output_type": "stream",
     "text": [
      "ID                48842\n",
      "age               48842\n",
      "workclass         47879\n",
      "fnlwgt            48842\n",
      "education         48842\n",
      "education-num     48842\n",
      "marital-status    48842\n",
      "occupation        47876\n",
      "relationship      48842\n",
      "race              48842\n",
      "sex               48842\n",
      "capital-gain      48842\n",
      "capital-loss      48842\n",
      "hours-per-week    48842\n",
      "native-country    48568\n",
      "income            48842\n",
      "dtype: int64\n"
     ]
    }
   ],
   "source": [
    "#Cantidad de variables\n",
    "cantidadVariables=census_df.count()\n",
    "print(cantidadVariables)"
   ]
  },
  {
   "cell_type": "code",
   "execution_count": 16,
   "id": "de3601dd-fcd3-4927-99d9-591d364589c1",
   "metadata": {},
   "outputs": [
    {
     "name": "stdout",
     "output_type": "stream",
     "text": [
      "ID                48842\n",
      "age                  74\n",
      "workclass             9\n",
      "fnlwgt            28523\n",
      "education            16\n",
      "education-num        16\n",
      "marital-status        7\n",
      "occupation           15\n",
      "relationship          6\n",
      "race                  5\n",
      "sex                   2\n",
      "capital-gain        123\n",
      "capital-loss         99\n",
      "hours-per-week       96\n",
      "native-country       42\n",
      "income                4\n",
      "dtype: int64\n"
     ]
    }
   ],
   "source": [
    "#ValoresDistintos\n",
    "valoresDist=census_df.nunique()\n",
    "print(valoresDist)"
   ]
  },
  {
   "cell_type": "code",
   "execution_count": 20,
   "id": "d9750e54-b8cd-4de5-aa47-51393408228f",
   "metadata": {},
   "outputs": [
    {
     "name": "stdout",
     "output_type": "stream",
     "text": [
      "ID                  0\n",
      "age                 0\n",
      "workclass         963\n",
      "fnlwgt              0\n",
      "education           0\n",
      "education-num       0\n",
      "marital-status      0\n",
      "occupation        966\n",
      "relationship        0\n",
      "race                0\n",
      "sex                 0\n",
      "capital-gain        0\n",
      "capital-loss        0\n",
      "hours-per-week      0\n",
      "native-country    274\n",
      "income              0\n",
      "dtype: int64\n"
     ]
    }
   ],
   "source": [
    "#ValoresNulos\n",
    "valoresNull=census_df.isnull().sum()\n",
    "print(valoresNull)"
   ]
  },
  {
   "cell_type": "code",
   "execution_count": 24,
   "id": "8e071ae9-a139-4ac3-8bca-00a01f535c6b",
   "metadata": {},
   "outputs": [
    {
     "name": "stdout",
     "output_type": "stream",
     "text": [
      "                  Tipo  Cantidad de Valores  Valores Distintos  Valores Nulos\n",
      "ID               int64                48842              48842              0\n",
      "age              int64                48842                 74              0\n",
      "workclass       object                47879                  9            963\n",
      "fnlwgt           int64                48842              28523              0\n",
      "education       object                48842                 16              0\n",
      "education-num    int64                48842                 16              0\n",
      "marital-status  object                48842                  7              0\n",
      "occupation      object                47876                 15            966\n",
      "relationship    object                48842                  6              0\n",
      "race            object                48842                  5              0\n",
      "sex             object                48842                  2              0\n",
      "capital-gain     int64                48842                123              0\n",
      "capital-loss     int64                48842                 99              0\n",
      "hours-per-week   int64                48842                 96              0\n",
      "native-country  object                48568                 42            274\n",
      "income          object                48842                  4              0\n"
     ]
    }
   ],
   "source": [
    "# Resumen de Analisis\n",
    "resumen = pd.DataFrame({\n",
    "    'Tipo': dataType,\n",
    "    'Cantidad de Valores': cantidadVariables,\n",
    "    'Valores Distintos': valoresDist,\n",
    "    'Valores Nulos': valoresNull\n",
    "})\n",
    "\n",
    "print(resumen)"
   ]
  },
  {
   "cell_type": "code",
   "execution_count": null,
   "id": "ae3d1dd8-b589-49d5-95d2-27f51ba44b47",
   "metadata": {},
   "outputs": [],
   "source": []
  }
 ],
 "metadata": {
  "kernelspec": {
   "display_name": "Python 3 (ipykernel)",
   "language": "python",
   "name": "python3"
  },
  "language_info": {
   "codemirror_mode": {
    "name": "ipython",
    "version": 3
   },
   "file_extension": ".py",
   "mimetype": "text/x-python",
   "name": "python",
   "nbconvert_exporter": "python",
   "pygments_lexer": "ipython3",
   "version": "3.12.4"
  }
 },
 "nbformat": 4,
 "nbformat_minor": 5
}
